{
 "cells": [
  {
   "cell_type": "markdown",
   "metadata": {},
   "source": [
    "# Advanced Project: Long Run\n",
    "## Implementing the Solow-Romer Model"
   ]
  },
  {
   "cell_type": "code",
   "execution_count": 29,
   "metadata": {},
   "outputs": [
    {
     "name": "stdout",
     "output_type": "stream",
     "text": [
      "Collecting fredapi\n",
      "  Downloading fredapi-0.4.3-py3-none-any.whl (11 kB)\n",
      "Requirement already satisfied: pandas in c:\\users\\moncayod\\anaconda3\\lib\\site-packages (from fredapi) (1.0.1)\n",
      "Requirement already satisfied: python-dateutil>=2.6.1 in c:\\users\\moncayod\\anaconda3\\lib\\site-packages (from pandas->fredapi) (2.8.1)\n",
      "Requirement already satisfied: pytz>=2017.2 in c:\\users\\moncayod\\anaconda3\\lib\\site-packages (from pandas->fredapi) (2019.3)\n",
      "Requirement already satisfied: numpy>=1.13.3 in c:\\users\\moncayod\\anaconda3\\lib\\site-packages (from pandas->fredapi) (1.18.1)\n",
      "Requirement already satisfied: six>=1.5 in c:\\users\\moncayod\\anaconda3\\lib\\site-packages (from python-dateutil>=2.6.1->pandas->fredapi) (1.14.0)\n",
      "Installing collected packages: fredapi\n",
      "Successfully installed fredapi-0.4.3\n"
     ]
    }
   ],
   "source": [
    "# Install a pip package in the current Jupyter kernel. Guide HERE (https://jakevdp.github.io/blog/2017/12/05/installing-python-packages-from-jupyter/)\n",
    "import sys\n",
    "!{sys.executable} -m pip install fredapi"
   ]
  },
  {
   "cell_type": "code",
   "execution_count": 53,
   "metadata": {},
   "outputs": [],
   "source": [
    "import numpy as np\n",
    "import pandas as pd\n",
    "import matplotlib.pyplot as plt\n"
   ]
  },
  {
   "cell_type": "markdown",
   "metadata": {},
   "source": [
    "### Q1) Calibration\n",
    "\n",
    "A vital component of every Macroeconomic model is the \"Calibration.\" To numerically implement a model, we need values for our parameters or calibrate our model. For example, there are two parameters in the Solow-Romer model, the growth rate of TFP and the Population growth rate. Calculate the average growth rate of TFP and Population over the last 50 years. Hint: you can't average the yearly growth rates; you have to consider compounding. \n",
    "\n",
    "Use these data series from FRED: TFP (RTFPNAUSA632NRUG) and Population (LFWA64TTUSM647N). You can do it manually as we have always done, or use an API. Guide [HERE](https://github.com/mortada/fredapi). Help on installation of packages through pip is [Here](https://jakevdp.github.io/blog/2017/12/05/installing-python-packages-from-jupyter/)\n",
    "\n",
    "Show all your calculations and answers formatted in the correct units up to two decimal places."
   ]
  },
  {
   "cell_type": "code",
   "execution_count": null,
   "metadata": {},
   "outputs": [],
   "source": []
  },
  {
   "cell_type": "markdown",
   "metadata": {},
   "source": [
    "### Q2) Steady State\n",
    "\n",
    "Now that you have parameters \"g\" and \"n,\" assume these values for the rest of the parameters: $s=0.1$, $\\delta=0.06$, $\\alpha=0.33$, $\\ell=0.01$. Solve for the value of $k=\\frac{K}{AL}$ in the steady-state, $k^*$."
   ]
  },
  {
   "cell_type": "code",
   "execution_count": null,
   "metadata": {},
   "outputs": [],
   "source": []
  },
  {
   "cell_type": "markdown",
   "metadata": {},
   "source": [
    "### Q3) Implementing Solow-Romer\n",
    "\n",
    "Suppose that $K_0=1,000$, $L_0=500$, and $A_0=1.7$. Implement the Solow-Romer model in Python using the parameter values from Q2). "
   ]
  },
  {
   "cell_type": "markdown",
   "metadata": {},
   "source": [
    "__a)__ How long does it take the model to reach the steady-state? "
   ]
  },
  {
   "cell_type": "markdown",
   "metadata": {},
   "source": [
    "__b)__ Graph the path of $K_t$, $Y_t$, $C_t$ from their initial values until 10 periods after they reach the steady-state value $k^*$. Use the log scale. _Hint: remember that $K_t=k_tL_tA_t$_"
   ]
  },
  {
   "cell_type": "markdown",
   "metadata": {},
   "source": [
    "__c)__ What are the values of $K_t$, $L_t$, $A_t$ when they first reached the steady-state?"
   ]
  },
  {
   "cell_type": "markdown",
   "metadata": {},
   "source": [
    "### Q4) Quantitative Experiments\n",
    "\n",
    "Conduct the following quantitative experiments. Start the simulations at the values of capital, labor, and TFP at the steady-state you found in the last part of the previous question. Let the model follow the balanced growth path for 10 periods. Then simulate each of the following scenarios. Please include graphs for the path of $K_t$, $Y_t$, $C_t$ in the level and log scales. Add a different graph of your choosing for each scenario."
   ]
  },
  {
   "cell_type": "markdown",
   "metadata": {},
   "source": [
    "__a)__ War destroys half of the capital in the US."
   ]
  },
  {
   "cell_type": "code",
   "execution_count": null,
   "metadata": {},
   "outputs": [],
   "source": []
  },
  {
   "cell_type": "markdown",
   "metadata": {},
   "source": [
    "__b)__ Millennials suddenly increase their savings rate, doubling the historical average."
   ]
  },
  {
   "cell_type": "code",
   "execution_count": null,
   "metadata": {},
   "outputs": [],
   "source": []
  },
  {
   "cell_type": "markdown",
   "metadata": {},
   "source": [
    "__c)__ A peaceful advanced extraterrestrial race gives the US technology that instantly doubles TFP"
   ]
  },
  {
   "cell_type": "code",
   "execution_count": null,
   "metadata": {},
   "outputs": [],
   "source": []
  },
  {
   "cell_type": "markdown",
   "metadata": {},
   "source": [
    "__d)__ A scenario of your making"
   ]
  },
  {
   "cell_type": "code",
   "execution_count": null,
   "metadata": {},
   "outputs": [],
   "source": []
  }
 ],
 "metadata": {
  "kernelspec": {
   "display_name": "Python 3",
   "language": "python",
   "name": "python3"
  },
  "language_info": {
   "codemirror_mode": {
    "name": "ipython",
    "version": 3
   },
   "file_extension": ".py",
   "mimetype": "text/x-python",
   "name": "python",
   "nbconvert_exporter": "python",
   "pygments_lexer": "ipython3",
   "version": "3.7.6"
  }
 },
 "nbformat": 4,
 "nbformat_minor": 4
}
